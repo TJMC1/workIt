{
 "cells": [
  {
   "cell_type": "code",
   "execution_count": 1,
   "id": "3553bfd2-d9f9-4f24-b883-d946ef0e0563",
   "metadata": {},
   "outputs": [],
   "source": [
    "# UNCOMMENT THESE TO INSTALL THE REQUIRED LIBRARIES\n",
    "\n",
    "# %pip install pandas\n",
    "# %pip install tensorflow\n",
    "# %pip install scikit-learn\n",
    "# %pip install pymysql\n",
    "# %pip install sshtunnel\n",
    "# %pip install keras"
   ]
  },
  {
   "cell_type": "code",
   "execution_count": 1,
   "id": "ec02f5e1-7b44-4aba-bf2c-39812c82d7ad",
   "metadata": {},
   "outputs": [
    {
     "ename": "ModuleNotFoundError",
     "evalue": "No module named 'tensorflow.keras'",
     "output_type": "error",
     "traceback": [
      "\u001b[1;31m---------------------------------------------------------------------------\u001b[0m",
      "\u001b[1;31mModuleNotFoundError\u001b[0m                       Traceback (most recent call last)",
      "Cell \u001b[1;32mIn[1], line 10\u001b[0m\n\u001b[0;32m      8\u001b[0m \u001b[38;5;28;01mfrom\u001b[39;00m \u001b[38;5;21;01msklearn\u001b[39;00m\u001b[38;5;21;01m.\u001b[39;00m\u001b[38;5;21;01mmodel_selection\u001b[39;00m \u001b[38;5;28;01mimport\u001b[39;00m train_test_split\n\u001b[0;32m      9\u001b[0m \u001b[38;5;28;01mfrom\u001b[39;00m \u001b[38;5;21;01msklearn\u001b[39;00m\u001b[38;5;21;01m.\u001b[39;00m\u001b[38;5;21;01mpreprocessing\u001b[39;00m \u001b[38;5;28;01mimport\u001b[39;00m LabelEncoder, StandardScaler\n\u001b[1;32m---> 10\u001b[0m \u001b[38;5;28;01mfrom\u001b[39;00m \u001b[38;5;21;01mtensorflow\u001b[39;00m\u001b[38;5;21;01m.\u001b[39;00m\u001b[38;5;21;01mkeras\u001b[39;00m\u001b[38;5;21;01m.\u001b[39;00m\u001b[38;5;21;01mmodels\u001b[39;00m \u001b[38;5;28;01mimport\u001b[39;00m load_model\n\u001b[0;32m     12\u001b[0m \u001b[38;5;28mprint\u001b[39m(\u001b[38;5;124m\"\u001b[39m\u001b[38;5;124mNumpy version:\u001b[39m\u001b[38;5;124m\"\u001b[39m, np\u001b[38;5;241m.\u001b[39m__version__)\n\u001b[0;32m     13\u001b[0m \u001b[38;5;28mprint\u001b[39m(\u001b[38;5;124m\"\u001b[39m\u001b[38;5;124mPandas version:\u001b[39m\u001b[38;5;124m\"\u001b[39m, pd\u001b[38;5;241m.\u001b[39m__version__)\n",
      "\u001b[1;31mModuleNotFoundError\u001b[0m: No module named 'tensorflow.keras'"
     ]
    }
   ],
   "source": [
    "import numpy as np\n",
    "import pandas as pd\n",
    "import sklearn\n",
    "import tensorflow as tf\n",
    "import pymysql\n",
    "import sshtunnel\n",
    "\n",
    "from sklearn.model_selection import train_test_split\n",
    "from sklearn.preprocessing import LabelEncoder, StandardScaler\n",
    "from tensorflow.keras.models import load_model\n",
    "\n",
    "print(\"Numpy version:\", np.__version__)\n",
    "print(\"Pandas version:\", pd.__version__)\n",
    "print(\"Tensorflow version:\", tf.__version__)\n",
    "print(\"Sklearn version:\", sklearn.__version__)\n",
    "print(\"Pymysql version:\", pymysql.__version__)\n",
    "print(\"Sshtunnel version:\", sshtunnel.__version__)"
   ]
  },
  {
   "cell_type": "code",
   "execution_count": null,
   "id": "0b47a327-d46c-4eb0-ba13-5f5d2b74e59f",
   "metadata": {},
   "outputs": [],
   "source": [
    "# Set up SSH tunnel\n",
    "server = sshtunnel.SSHTunnelForwarder(\n",
    "    ('selene.hud.ac.uk', 22),\n",
    "    ssh_username='workit',\n",
    "    ssh_password='umbra(despair>Quartz218',\n",
    "    remote_bind_address=('localhost', 3306)\n",
    ")\n",
    "server.start()\n",
    "\n",
    "# Defining the connection\n",
    "connection = pymysql.connect(host='localhost', port=server.local_bind_port, user='workit', password='umbra(despair>Quartz218', database='workit')"
   ]
  },
  {
   "cell_type": "code",
   "execution_count": null,
   "id": "66373553-4948-4960-9581-3db882c171ac",
   "metadata": {},
   "outputs": [],
   "source": [
    "# DATAPATH = \"../input/megaGymDataset.csv\"\n",
    "\n",
    "# Load the dataset\n",
    "dataset = pd.read_sql_query(\"SELECT * FROM `megaGymDataset`\", connection)\n",
    "dataset.head()"
   ]
  },
  {
   "cell_type": "code",
   "execution_count": null,
   "id": "ae7bdaff-a541-4af9-9a46-64f96c37f6e9",
   "metadata": {},
   "outputs": [],
   "source": [
    "server.stop()"
   ]
  },
  {
   "cell_type": "code",
   "execution_count": null,
   "id": "87bc719e-2d57-452c-852d-a30fcfd2cc90",
   "metadata": {},
   "outputs": [],
   "source": [
    "def labelEncodersScaler(data):\n",
    "    label_encoders = {}\n",
    "    for feature in [\"Type\", \"BodyPart\", \"Equipment\", \"Level\"]:\n",
    "        label_encoders[feature] = LabelEncoder()\n",
    "        data[feature] = label_encoders[feature].fit_transform(data[feature])\n",
    "\n",
    "    X = data[[\"Type\", \"BodyPart\", \"Equipment\", \"Level\"]]\n",
    "    y = data[\"ID\"]\n",
    "    \n",
    "    # Split the data into training and testing sets\n",
    "    X_train, X_test, y_train, y_test = train_test_split(X, y, test_size=0.2, random_state=42)\n",
    "    \n",
    "    # Standardize the features\n",
    "    scaler = StandardScaler()\n",
    "    X_train = scaler.fit_transform(X_train)\n",
    "\n",
    "    return label_encoders, scaler"
   ]
  },
  {
   "cell_type": "code",
   "execution_count": 6,
   "id": "370c793d-5699-4675-9ecf-7f96291fb7b4",
   "metadata": {},
   "outputs": [],
   "source": [
    "def train_model(data):\n",
    "    label_encoders, scaler = labelEncodersScaler(data)\n",
    "    \n",
    "    X = data[[\"Type\", \"BodyPart\", \"Equipment\", \"Level\"]]\n",
    "    y = data[\"ID\"]\n",
    "    \n",
    "    # Split the data into training and testing sets\n",
    "    X_train, X_test, y_train, y_test = train_test_split(X, y, test_size=0.2, random_state=42)\n",
    "    \n",
    "    X_train = scaler.fit_transform(X_train)\n",
    "    X_test = scaler.transform(X_test)\n",
    "    \n",
    "    # Build the ANN model using TensorFlow\n",
    "    model = tf.keras.models.Sequential([\n",
    "        tf.keras.layers.Dense(64, activation='relu', input_shape=(X_train.shape[1],)),\n",
    "        tf.keras.layers.Dense(64, activation='relu'),\n",
    "        tf.keras.layers.Dense(len(data[\"ID\"].unique()), activation='softmax')  # Use the unique number of IDs as the output dimension\n",
    "    ])\n",
    "    \n",
    "    model.compile(optimizer='adam', loss='sparse_categorical_crossentropy', metrics=['accuracy'])\n",
    "    \n",
    "    model.fit(X_train, y_train, epochs=10, batch_size=32, validation_data=(X_test, y_test))\n",
    "\n",
    "    return model"
   ]
  },
  {
   "cell_type": "code",
   "execution_count": null,
   "id": "89e540fd-fd7e-43fe-8beb-9e2f6bf0abc5",
   "metadata": {},
   "outputs": [],
   "source": [
    "def recommend_exercises(user_input, model, data):\n",
    "    label_encoders, scaler = labelEncodersScaler(data)\n",
    "    \n",
    "    user_input_encoded = [label_encoders[feature].transform([user_input[i]])[0] for i, feature in enumerate([\"Type\", \"BodyPart\", \"Equipment\", \"Level\"])]\n",
    "    user_input_scaled = scaler.transform([user_input_encoded])\n",
    "    \n",
    "    predictions = model.predict(user_input_scaled)\n",
    "    \n",
    "    return data.iloc[np.squeeze(predictions.argsort())][::-1][:10].sort_values([\"Rating\"], ascending=False).index.to_list()"
   ]
  },
  {
   "cell_type": "code",
   "execution_count": null,
   "id": "a8af8d3b-6cc4-447a-ad2e-cd6dd6d60f96",
   "metadata": {},
   "outputs": [],
   "source": [
    "model = train_model(dataset.copy())\n",
    "model.save(\"ann_gym_recommender.keras\")"
   ]
  },
  {
   "cell_type": "code",
   "execution_count": null,
   "id": "a01dbc70-f2d9-4fd9-a98c-3559f62066bd",
   "metadata": {},
   "outputs": [],
   "source": [
    "model = load_model(MODEL_PATH)\n",
    "user_input = [\"Strength\", \"Biceps\", \"Body Only\", \"Intermediate\"]\n",
    "IDs = recommend_exercises(user_input, model, dataset.copy())\n",
    "dataset.iloc[IDs]"
   ]
  }
 ],
 "metadata": {
  "kernelspec": {
   "display_name": "Gym_Recommender_venv",
   "language": "python",
   "name": "gym_recommender_venv"
  },
  "language_info": {
   "codemirror_mode": {
    "name": "ipython",
    "version": 3
   },
   "file_extension": ".py",
   "mimetype": "text/x-python",
   "name": "python",
   "nbconvert_exporter": "python",
   "pygments_lexer": "ipython3",
   "version": "3.12.3"
  }
 },
 "nbformat": 4,
 "nbformat_minor": 5
}
