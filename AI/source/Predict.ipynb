{
 "cells": [
  {
   "cell_type": "code",
   "execution_count": 2,
   "id": "27fc27b9-37f7-4b31-b580-92decb7b7c65",
   "metadata": {},
   "outputs": [],
   "source": [
    "# UNCOMMENT THESE TO INSTALL THE REQUIRED LIBRARIES\n",
    "\n",
    "# %pip install pandas\n",
    "# %pip install tensorflow\n",
    "# %pip install scikit-learn\n",
    "# %pip install pymysql\n",
    "# %pip install sshtunnel"
   ]
  },
  {
   "cell_type": "code",
   "execution_count": 3,
   "id": "9db3e414-5403-434c-aef2-92dde4f7dfd9",
   "metadata": {},
   "outputs": [
    {
     "name": "stdout",
     "output_type": "stream",
     "text": [
      "Numpy version: 1.26.4\n",
      "Pandas version: 2.2.2\n",
      "Tensorflow version: 2.16.1\n",
      "Sklearn version: 1.4.2\n",
      "Pymysql version: 1.4.6\n",
      "Sshtunnel version: 0.4.0\n"
     ]
    }
   ],
   "source": [
    "import numpy as np\n",
    "import pandas as pd\n",
    "import sklearn\n",
    "import tensorflow as tf\n",
    "import pymysql\n",
    "import sshtunnel\n",
    "\n",
    "from sklearn.model_selection import train_test_split\n",
    "from sklearn.preprocessing import LabelEncoder, StandardScaler\n",
    "from tensorflow.keras.models import load_model\n",
    "\n",
    "print(\"Numpy version:\", np.__version__)\n",
    "print(\"Pandas version:\", pd.__version__)\n",
    "print(\"Tensorflow version:\", tf.__version__)\n",
    "print(\"Sklearn version:\", sklearn.__version__)\n",
    "print(\"Pymysql version:\", pymysql.__version__)\n",
    "print(\"Sshtunnel version:\", sshtunnel.__version__)"
   ]
  },
  {
   "cell_type": "markdown",
   "id": "ec311d84-629f-40ec-afbd-d1b5dc015b97",
   "metadata": {},
   "source": [
    "### Reading data from a SQL-SERVER"
   ]
  },
  {
   "cell_type": "code",
   "execution_count": 4,
   "id": "fcc5cbc5-85d7-49e6-b71b-75d3bd30c0f4",
   "metadata": {},
   "outputs": [],
   "source": [
    "# Set up SSH tunnel\n",
    "server = sshtunnel.SSHTunnelForwarder(\n",
    "    ('selene.hud.ac.uk', 22),\n",
    "    ssh_username='workit',\n",
    "    ssh_password='umbra(despair>Quartz218',\n",
    "    remote_bind_address=('localhost', 3306)\n",
    ")\n",
    "server.start()\n",
    "\n",
    "# Defining the connection\n",
    "connection = pymysql.connect(host='localhost', port=server.local_bind_port, user='workit', password='umbra(despair>Quartz218', database='workit')"
   ]
  },
  {
   "cell_type": "code",
   "execution_count": 5,
   "id": "3cbedb22-988a-4a92-bde2-018f26c7d490",
   "metadata": {},
   "outputs": [
    {
     "data": {
      "text/html": [
       "<div>\n",
       "<style scoped>\n",
       "    .dataframe tbody tr th:only-of-type {\n",
       "        vertical-align: middle;\n",
       "    }\n",
       "\n",
       "    .dataframe tbody tr th {\n",
       "        vertical-align: top;\n",
       "    }\n",
       "\n",
       "    .dataframe thead th {\n",
       "        text-align: right;\n",
       "    }\n",
       "</style>\n",
       "<table border=\"1\" class=\"dataframe\">\n",
       "  <thead>\n",
       "    <tr style=\"text-align: right;\">\n",
       "      <th></th>\n",
       "      <th>ID</th>\n",
       "      <th>Title</th>\n",
       "      <th>Desc</th>\n",
       "      <th>Type</th>\n",
       "      <th>BodyPart</th>\n",
       "      <th>Equipment</th>\n",
       "      <th>Level</th>\n",
       "      <th>Rating</th>\n",
       "    </tr>\n",
       "  </thead>\n",
       "  <tbody>\n",
       "    <tr>\n",
       "      <th>0</th>\n",
       "      <td>0</td>\n",
       "      <td>Partner plank band row</td>\n",
       "      <td>The partner plank band row is an abdominal exe...</td>\n",
       "      <td>Strength</td>\n",
       "      <td>Abdominals</td>\n",
       "      <td>Bands</td>\n",
       "      <td>Intermediate</td>\n",
       "      <td>0.0</td>\n",
       "    </tr>\n",
       "    <tr>\n",
       "      <th>1</th>\n",
       "      <td>1</td>\n",
       "      <td>Banded crunch isometric hold</td>\n",
       "      <td>The banded crunch isometric hold is an exercis...</td>\n",
       "      <td>Strength</td>\n",
       "      <td>Abdominals</td>\n",
       "      <td>Bands</td>\n",
       "      <td>Intermediate</td>\n",
       "      <td>4.5</td>\n",
       "    </tr>\n",
       "    <tr>\n",
       "      <th>2</th>\n",
       "      <td>2</td>\n",
       "      <td>FYR Banded Plank Jack</td>\n",
       "      <td>The banded plank jack is a variation on the pl...</td>\n",
       "      <td>Strength</td>\n",
       "      <td>Abdominals</td>\n",
       "      <td>Bands</td>\n",
       "      <td>Intermediate</td>\n",
       "      <td>4.5</td>\n",
       "    </tr>\n",
       "    <tr>\n",
       "      <th>3</th>\n",
       "      <td>3</td>\n",
       "      <td>Banded crunch</td>\n",
       "      <td>The banded crunch is an exercise targeting the...</td>\n",
       "      <td>Strength</td>\n",
       "      <td>Abdominals</td>\n",
       "      <td>Bands</td>\n",
       "      <td>Intermediate</td>\n",
       "      <td>4.5</td>\n",
       "    </tr>\n",
       "    <tr>\n",
       "      <th>4</th>\n",
       "      <td>4</td>\n",
       "      <td>Crunch</td>\n",
       "      <td>The crunch is a popular core exercise targetin...</td>\n",
       "      <td>Strength</td>\n",
       "      <td>Abdominals</td>\n",
       "      <td>Bands</td>\n",
       "      <td>Intermediate</td>\n",
       "      <td>4.5</td>\n",
       "    </tr>\n",
       "  </tbody>\n",
       "</table>\n",
       "</div>"
      ],
      "text/plain": [
       "   ID                         Title  \\\n",
       "0   0        Partner plank band row   \n",
       "1   1  Banded crunch isometric hold   \n",
       "2   2         FYR Banded Plank Jack   \n",
       "3   3                 Banded crunch   \n",
       "4   4                        Crunch   \n",
       "\n",
       "                                                Desc      Type    BodyPart  \\\n",
       "0  The partner plank band row is an abdominal exe...  Strength  Abdominals   \n",
       "1  The banded crunch isometric hold is an exercis...  Strength  Abdominals   \n",
       "2  The banded plank jack is a variation on the pl...  Strength  Abdominals   \n",
       "3  The banded crunch is an exercise targeting the...  Strength  Abdominals   \n",
       "4  The crunch is a popular core exercise targetin...  Strength  Abdominals   \n",
       "\n",
       "  Equipment         Level Rating  \n",
       "0     Bands  Intermediate    0.0  \n",
       "1     Bands  Intermediate    4.5  \n",
       "2     Bands  Intermediate    4.5  \n",
       "3     Bands  Intermediate    4.5  \n",
       "4     Bands  Intermediate    4.5  "
      ]
     },
     "execution_count": 5,
     "metadata": {},
     "output_type": "execute_result"
    }
   ],
   "source": [
    "MODEL_PATH = \"ann_gym_recommender.keras\"\n",
    "\n",
    "# Load the dataset\n",
    "dataset = pd.read_sql_query(\"SELECT * FROM `megaGymDataset`\", connection)\n",
    "dataset.head()"
   ]
  },
  {
   "cell_type": "code",
   "execution_count": 6,
   "id": "3f78f79e-6b2c-4750-a39b-333ed8cca118",
   "metadata": {},
   "outputs": [],
   "source": [
    "server.stop()"
   ]
  },
  {
   "cell_type": "code",
   "execution_count": 9,
   "id": "408b8418-9c13-4112-a05f-2e0c6133fcd9",
   "metadata": {},
   "outputs": [
    {
     "data": {
      "text/plain": [
       "'The partner plank band row is an abdominal exercise where two partners perform single-arm planks while pulling on the opposite ends of an exercise band. This technique can be done for time or reps in any ab-focused workout.'"
      ]
     },
     "execution_count": 9,
     "metadata": {},
     "output_type": "execute_result"
    }
   ],
   "source": [
    "dataset.iloc[0][2]"
   ]
  },
  {
   "cell_type": "code",
   "execution_count": 6,
   "id": "b480328f-6224-42ef-ad66-7bff18ce60e3",
   "metadata": {},
   "outputs": [],
   "source": [
    "def labelEncodersScaler(data):\n",
    "    label_encoders = {}\n",
    "    for feature in [\"Type\", \"BodyPart\", \"Equipment\", \"Level\"]:\n",
    "        label_encoders[feature] = LabelEncoder()\n",
    "        data[feature] = label_encoders[feature].fit_transform(data[feature])\n",
    "\n",
    "    X = data[[\"Type\", \"BodyPart\", \"Equipment\", \"Level\"]]\n",
    "    y = data[\"ID\"]\n",
    "    \n",
    "    # Split the data into training and testing sets\n",
    "    X_train, X_test, y_train, y_test = train_test_split(X, y, test_size=0.2, random_state=42)\n",
    "    \n",
    "    # Standardize the features\n",
    "    scaler = StandardScaler()\n",
    "    X_train = scaler.fit_transform(X_train)\n",
    "\n",
    "    return label_encoders, scaler"
   ]
  },
  {
   "cell_type": "code",
   "execution_count": 7,
   "id": "d5907cb4-6a83-4790-89e6-f3c014daf581",
   "metadata": {},
   "outputs": [],
   "source": [
    "def recommend_exercises(user_input, model, data):\n",
    "    label_encoders, scaler = labelEncodersScaler(data)\n",
    "    \n",
    "    user_input_encoded = [label_encoders[feature].transform([user_input[i]])[0] for i, feature in enumerate([\"Type\", \"BodyPart\", \"Equipment\", \"Level\"])]\n",
    "    user_input_scaled = scaler.transform([user_input_encoded])\n",
    "    \n",
    "    predictions = model.predict(user_input_scaled)\n",
    "    \n",
    "    return data.iloc[np.squeeze(predictions.argsort())][::-1][:10].sort_values([\"Rating\"], ascending=False).index.to_list()"
   ]
  },
  {
   "cell_type": "markdown",
   "id": "2aeb770a-d72e-4456-94bc-00f1abe2e52d",
   "metadata": {},
   "source": [
    "### Predict from user input"
   ]
  },
  {
   "cell_type": "code",
   "execution_count": 8,
   "id": "95c5e3b8-f76e-4fcb-acc3-bdc430e6e280",
   "metadata": {
    "scrolled": true
   },
   "outputs": [
    {
     "name": "stdout",
     "output_type": "stream",
     "text": [
      "\u001b[1m1/1\u001b[0m \u001b[32m━━━━━━━━━━━━━━━━━━━━\u001b[0m\u001b[37m\u001b[0m \u001b[1m0s\u001b[0m 195ms/step\n"
     ]
    },
    {
     "data": {
      "text/html": [
       "<div>\n",
       "<style scoped>\n",
       "    .dataframe tbody tr th:only-of-type {\n",
       "        vertical-align: middle;\n",
       "    }\n",
       "\n",
       "    .dataframe tbody tr th {\n",
       "        vertical-align: top;\n",
       "    }\n",
       "\n",
       "    .dataframe thead th {\n",
       "        text-align: right;\n",
       "    }\n",
       "</style>\n",
       "<table border=\"1\" class=\"dataframe\">\n",
       "  <thead>\n",
       "    <tr style=\"text-align: right;\">\n",
       "      <th></th>\n",
       "      <th>ID</th>\n",
       "      <th>Title</th>\n",
       "      <th>Desc</th>\n",
       "      <th>Type</th>\n",
       "      <th>BodyPart</th>\n",
       "      <th>Equipment</th>\n",
       "      <th>Level</th>\n",
       "      <th>Rating</th>\n",
       "    </tr>\n",
       "  </thead>\n",
       "  <tbody>\n",
       "    <tr>\n",
       "      <th>853</th>\n",
       "      <td>853</td>\n",
       "      <td>TBS Chin-Up</td>\n",
       "      <td>The a chin-up is a variation of the pull-up ex...</td>\n",
       "      <td>Strength</td>\n",
       "      <td>Biceps</td>\n",
       "      <td>Body Only</td>\n",
       "      <td>Intermediate</td>\n",
       "      <td>9.0</td>\n",
       "    </tr>\n",
       "    <tr>\n",
       "      <th>855</th>\n",
       "      <td>855</td>\n",
       "      <td>UN Pull-Up Supinated</td>\n",
       "      <td>Pull-up variation with a supinated (underhand)...</td>\n",
       "      <td>Strength</td>\n",
       "      <td>Biceps</td>\n",
       "      <td>Body Only</td>\n",
       "      <td>Intermediate</td>\n",
       "      <td>9.0</td>\n",
       "    </tr>\n",
       "    <tr>\n",
       "      <th>854</th>\n",
       "      <td>854</td>\n",
       "      <td>Pull-up - Gethin Variation</td>\n",
       "      <td>The pull-up is a multi-joint bodyweight exerci...</td>\n",
       "      <td>Strength</td>\n",
       "      <td>Biceps</td>\n",
       "      <td>Body Only</td>\n",
       "      <td>Intermediate</td>\n",
       "      <td>9.0</td>\n",
       "    </tr>\n",
       "    <tr>\n",
       "      <th>1044</th>\n",
       "      <td>1044</td>\n",
       "      <td>1.5-rep push-up</td>\n",
       "      <td>The 1.5-rep push-up is a more difficult variat...</td>\n",
       "      <td>Strength</td>\n",
       "      <td>Chest</td>\n",
       "      <td>Body Only</td>\n",
       "      <td>Intermediate</td>\n",
       "      <td>8.19</td>\n",
       "    </tr>\n",
       "    <tr>\n",
       "      <th>911</th>\n",
       "      <td>911</td>\n",
       "      <td>HM Left Calf-Spike Sumo Pulse</td>\n",
       "      <td>Dynamic calf exercise involving pulsing moveme...</td>\n",
       "      <td>Strength</td>\n",
       "      <td>Calves</td>\n",
       "      <td>Body Only</td>\n",
       "      <td>Intermediate</td>\n",
       "      <td>6.870833333333334</td>\n",
       "    </tr>\n",
       "    <tr>\n",
       "      <th>909</th>\n",
       "      <td>909</td>\n",
       "      <td>Standing Calf Raise</td>\n",
       "      <td>The standing calf raise is a popular movement ...</td>\n",
       "      <td>Strength</td>\n",
       "      <td>Calves</td>\n",
       "      <td>Body Only</td>\n",
       "      <td>Intermediate</td>\n",
       "      <td>6.870833333333333</td>\n",
       "    </tr>\n",
       "    <tr>\n",
       "      <th>910</th>\n",
       "      <td>910</td>\n",
       "      <td>Standing calf raise-</td>\n",
       "      <td>The standing calf raise is a popular movement ...</td>\n",
       "      <td>Strength</td>\n",
       "      <td>Calves</td>\n",
       "      <td>Body Only</td>\n",
       "      <td>Intermediate</td>\n",
       "      <td>6.870833333333333</td>\n",
       "    </tr>\n",
       "    <tr>\n",
       "      <th>694</th>\n",
       "      <td>694</td>\n",
       "      <td>HM Left Leg Swing</td>\n",
       "      <td>Dynamic leg swing exercise targeting hip flexo...</td>\n",
       "      <td>Strength</td>\n",
       "      <td>Adductors</td>\n",
       "      <td>Body Only</td>\n",
       "      <td>Intermediate</td>\n",
       "      <td>4.816666666666667</td>\n",
       "    </tr>\n",
       "    <tr>\n",
       "      <th>695</th>\n",
       "      <td>695</td>\n",
       "      <td>UNS Foam Roll Adductor</td>\n",
       "      <td>Using a foam roller to massage and release ten...</td>\n",
       "      <td>Strength</td>\n",
       "      <td>Adductors</td>\n",
       "      <td>Body Only</td>\n",
       "      <td>Intermediate</td>\n",
       "      <td>4.816666666666667</td>\n",
       "    </tr>\n",
       "    <tr>\n",
       "      <th>697</th>\n",
       "      <td>697</td>\n",
       "      <td>Side-lying leg adduction scissor</td>\n",
       "      <td>The side-lying leg adduction scissor is a dyna...</td>\n",
       "      <td>Strength</td>\n",
       "      <td>Adductors</td>\n",
       "      <td>Body Only</td>\n",
       "      <td>Intermediate</td>\n",
       "      <td>4.816666666666666</td>\n",
       "    </tr>\n",
       "  </tbody>\n",
       "</table>\n",
       "</div>"
      ],
      "text/plain": [
       "        ID                             Title  \\\n",
       "853    853                       TBS Chin-Up   \n",
       "855    855              UN Pull-Up Supinated   \n",
       "854    854        Pull-up - Gethin Variation   \n",
       "1044  1044                   1.5-rep push-up   \n",
       "911    911     HM Left Calf-Spike Sumo Pulse   \n",
       "909    909               Standing Calf Raise   \n",
       "910    910              Standing calf raise-   \n",
       "694    694                 HM Left Leg Swing   \n",
       "695    695            UNS Foam Roll Adductor   \n",
       "697    697  Side-lying leg adduction scissor   \n",
       "\n",
       "                                                   Desc      Type   BodyPart  \\\n",
       "853   The a chin-up is a variation of the pull-up ex...  Strength     Biceps   \n",
       "855   Pull-up variation with a supinated (underhand)...  Strength     Biceps   \n",
       "854   The pull-up is a multi-joint bodyweight exerci...  Strength     Biceps   \n",
       "1044  The 1.5-rep push-up is a more difficult variat...  Strength      Chest   \n",
       "911   Dynamic calf exercise involving pulsing moveme...  Strength     Calves   \n",
       "909   The standing calf raise is a popular movement ...  Strength     Calves   \n",
       "910   The standing calf raise is a popular movement ...  Strength     Calves   \n",
       "694   Dynamic leg swing exercise targeting hip flexo...  Strength  Adductors   \n",
       "695   Using a foam roller to massage and release ten...  Strength  Adductors   \n",
       "697   The side-lying leg adduction scissor is a dyna...  Strength  Adductors   \n",
       "\n",
       "      Equipment         Level             Rating  \n",
       "853   Body Only  Intermediate                9.0  \n",
       "855   Body Only  Intermediate                9.0  \n",
       "854   Body Only  Intermediate                9.0  \n",
       "1044  Body Only  Intermediate               8.19  \n",
       "911   Body Only  Intermediate  6.870833333333334  \n",
       "909   Body Only  Intermediate  6.870833333333333  \n",
       "910   Body Only  Intermediate  6.870833333333333  \n",
       "694   Body Only  Intermediate  4.816666666666667  \n",
       "695   Body Only  Intermediate  4.816666666666667  \n",
       "697   Body Only  Intermediate  4.816666666666666  "
      ]
     },
     "execution_count": 8,
     "metadata": {},
     "output_type": "execute_result"
    }
   ],
   "source": [
    "model = load_model(MODEL_PATH)\n",
    "user_input = [\"Strength\", \"Biceps\", \"Body Only\", \"Intermediate\"]\n",
    "IDs = recommend_exercises(user_input, model, dataset.copy())\n",
    "dataset.iloc[IDs]"
   ]
  },
  {
   "cell_type": "code",
   "execution_count": 9,
   "id": "6766dddb-ebcd-49e1-8842-2c11b720f504",
   "metadata": {
    "scrolled": true
   },
   "outputs": [
    {
     "ename": "ModuleNotFoundError",
     "evalue": "No module named 'tensorflowjs'",
     "output_type": "error",
     "traceback": [
      "\u001b[1;31m---------------------------------------------------------------------------\u001b[0m",
      "\u001b[1;31mModuleNotFoundError\u001b[0m                       Traceback (most recent call last)",
      "Cell \u001b[1;32mIn[9], line 1\u001b[0m\n\u001b[1;32m----> 1\u001b[0m \u001b[38;5;28;01mimport\u001b[39;00m \u001b[38;5;21;01mtensorflowjs\u001b[39;00m\n",
      "\u001b[1;31mModuleNotFoundError\u001b[0m: No module named 'tensorflowjs'"
     ]
    }
   ],
   "source": [
    "import tensorflowjs"
   ]
  },
  {
   "cell_type": "code",
   "execution_count": null,
   "id": "c3793179-c50b-4541-bbc5-aae833984c08",
   "metadata": {},
   "outputs": [],
   "source": [
    "%pip install tensorflowjs"
   ]
  },
  {
   "cell_type": "code",
   "execution_count": null,
   "id": "37c9bf9d-482b-47e8-ac43-1fa32578ab2f",
   "metadata": {},
   "outputs": [],
   "source": [
    "!tensorflowjs_converter --input_format keras \"ann_gym_recommender.keras\" ./jsmodel"
   ]
  }
 ],
 "metadata": {
  "kernelspec": {
   "display_name": "Python 3 (ipykernel)",
   "language": "python",
   "name": "python3"
  },
  "language_info": {
   "codemirror_mode": {
    "name": "ipython",
    "version": 3
   },
   "file_extension": ".py",
   "mimetype": "text/x-python",
   "name": "python",
   "nbconvert_exporter": "python",
   "pygments_lexer": "ipython3",
   "version": "3.12.3"
  }
 },
 "nbformat": 4,
 "nbformat_minor": 5
}
