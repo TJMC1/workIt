{
 "cells": [
  {
   "cell_type": "code",
   "execution_count": null,
   "id": "3553bfd2-d9f9-4f24-b883-d946ef0e0563",
   "metadata": {},
   "outputs": [],
   "source": []
  }
 ],
 "metadata": {
  "kernelspec": {
   "display_name": "Gym_Recommender_venv",
   "language": "python",
   "name": "gym_recommender_venv"
  },
  "language_info": {
   "codemirror_mode": {
    "name": "ipython",
    "version": 3
   },
   "file_extension": ".py",
   "mimetype": "text/x-python",
   "name": "python",
   "nbconvert_exporter": "python",
   "pygments_lexer": "ipython3",
   "version": "3.12.3"
  }
 },
 "nbformat": 4,
 "nbformat_minor": 5
}
